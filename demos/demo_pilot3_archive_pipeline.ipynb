{
 "cells": [
  {
   "cell_type": "markdown",
   "id": "be75ec3a",
   "metadata": {},
   "source": [
    "# Processing Pipeline for Archived Sensor.Community Data (AD4GD, Pilot 3)\n",
    "This notebook outlines a full processing pipeline for archived air quality data from the Sensor.Community project. Unlike the near real-time (NRT) version, this workflow is tailored to monthly batches of data.  \n",
    "**Note: The processing steps are computationally intensive and may require significant memory and CPU resources.**"
   ]
  },
  {
   "cell_type": "markdown",
   "id": "e3557e76",
   "metadata": {},
   "source": [
    "### Step 1: Setup and Imports\n",
    "Essential packages and project-specific modules are imported to handle data standardization, correction, and gridding. make sure *data_processing* module is available."
   ]
  },
  {
   "cell_type": "code",
   "execution_count": 1,
   "id": "9313ab28",
   "metadata": {},
   "outputs": [],
   "source": [
    "import subprocess\n",
    "from datetime import datetime\n",
    "from pathlib import Path\n",
    "from data_processing.standardize_sensor_community import StandardizeData\n",
    "from data_processing.iot_qa_hour import Corrector\n",
    "from data_processing.kriging_only import KrigingIoT"
   ]
  },
  {
   "cell_type": "markdown",
   "id": "41283e6c",
   "metadata": {},
   "source": [
    "### Step 2: Download Monthly Archived Data\n",
    "This step (via a script) downloads archived monthly data for a specific sensor type (sds011) over a date range. The files are saved in a local input directory.\n",
    "> python3 data_processing/download_data_archive.py --sensor sds011 -s 20241201 -e 20241231 -i testfolder/ad4gd_pilot3_test"
   ]
  },
  {
   "cell_type": "code",
   "execution_count": null,
   "id": "83bd888b",
   "metadata": {},
   "outputs": [],
   "source": [
    "# download monthly archive data from sensor.community\n",
    "# python3 data_processing/download_data_archive.py --sensor sds011 -s 20241201 -e 20241231 -i testfolder/ad4gd_pilot3_test"
   ]
  },
  {
   "cell_type": "markdown",
   "id": "a809c20a",
   "metadata": {},
   "source": [
    "### Step 3: Standardize Data to Hourly Averages\n",
    "This code block transforms raw, unevenly spaced data into hourly averages using a custom standardization class. This ensures time-regular data, suitable for quality control and gridding."
   ]
  },
  {
   "cell_type": "code",
   "execution_count": null,
   "id": "cc7bcf4f",
   "metadata": {},
   "outputs": [],
   "source": [
    "sensor = 'sds011'\n",
    "date = datetime(2024, 12, 1)\n",
    "inputfn = Path(testfolder, 'L1A', 'sds011', '2024-12_sds011.parquet')\n",
    "outputfold = Path(testfolder, 'L2')\n",
    "Standard = StandardizeData(date, sensor, inputfn, outputfold)\n",
    "Standard.run()"
   ]
  },
  {
   "cell_type": "markdown",
   "id": "57fc7041",
   "metadata": {},
   "source": [
    "### Step 4: Correct IoT data using Meteorological and Air Quality Model Data\n",
    "This step prepares input filenames for correction of the hourly particulate matter (PM) data. External datasets from ERA5 (meteorology) and CAMS (air quality) are used to:\n",
    "- Improve sensor data accuracy via ML-based correction,\n",
    "- Flag and filter potential outliers."
   ]
  },
  {
   "cell_type": "code",
   "execution_count": null,
   "id": "4d03219a",
   "metadata": {},
   "outputs": [
    {
     "ename": "",
     "evalue": "",
     "output_type": "error",
     "traceback": [
      "\u001b[1;31mThe Kernel crashed while executing code in the current cell or a previous cell. \n",
      "\u001b[1;31mPlease review the code in the cell(s) to identify a possible cause of the failure. \n",
      "\u001b[1;31mClick <a href='https://aka.ms/vscodeJupyterKernelCrash'>here</a> for more info. \n",
      "\u001b[1;31mView Jupyter <a href='command:jupyter.viewOutput'>log</a> for further details."
     ]
    }
   ],
   "source": [
    "# Correct hourly SDS011 data using ML model with ERA5 data as input\n",
    "# and apply outlier detection using CAMS data\n",
    "month = datetime(2024, 12, 1)\n",
    "ad4gd_fold = Path(testfolder)\n",
    "scomfn = Path(ad4gd_fold, 'L2', f'SDS011_PM2.5_hourly_{month:%Y%m%d}.nc')\n",
    "pollutant = 'pm25'\n",
    "meteofn = Path(ad4gd_fold, f'ERA5_sfc_CAMS_domain_{month:%Y%m}.nc')\n",
    "camsfn = Path(ad4gd_fold, f'CAMS_analysis_ensemble_{month:%Y%m}.nc')\n",
    "outputfolder = Path(ad4gd_fold, 'L2B')\n",
    "Corr = Corrector(scomfn,\n",
    "                month,\n",
    "                pollutant,\n",
    "                meteofn,\n",
    "                camsfn,\n",
    "                outputfolder)\n",
    "Corr.run()"
   ]
  },
  {
   "cell_type": "markdown",
   "id": "a60b0756",
   "metadata": {},
   "source": [
    "### Step 5: Spatial Regridding Using Ordinary Kriging\n",
    "The final step interpolates the corrected IoT measurements onto a regular grid using kriging, enabling spatial mapping and integration with models or satellite data."
   ]
  },
  {
   "cell_type": "code",
   "execution_count": null,
   "id": "ebd13952",
   "metadata": {},
   "outputs": [
    {
     "name": "stdout",
     "output_type": "stream",
     "text": [
      "2025-07-07 13:51:58.096567 Reading IoT data\n",
      "2025-07-07 13:52:23.309341 Processing 2024-12-01T00:00:00.000000000\n",
      "2025-07-07 13:52:23.317219 Identifying clusters\n",
      "2025-07-07 13:52:27.415335 Checking distance to nearest IoT station\n",
      "2025-07-07 13:52:27.415466 Create and query KDTree\n",
      "2025-07-07 13:52:39.716482 Calculate distances\n",
      "2025-07-07 13:52:39.873968 Performing global kriging\n"
     ]
    }
   ],
   "source": [
    "day = datetime(2024, 12, 1)\n",
    "iotmeasfn = Path(testfolder, 'L2B', 'pm25', f'iot_hour_corr_pm25_{day:%Y%m}.nc')\n",
    "outfn = Path(testfolder, 'L3', f'iotonly_hour_pm25_gridded_{day:%Y%m%d}.nc')\n",
    "Kriging = KrigingIoT(timeliness='hourly',\n",
    "                     date=month,\n",
    "                     iotmeasfn=iotmeasfn,\n",
    "                     outfn=outfn)\n",
    "Kriging.run()"
   ]
  }
 ],
 "metadata": {
  "kernelspec": {
   "display_name": "Python 3",
   "language": "python",
   "name": "python3"
  },
  "language_info": {
   "codemirror_mode": {
    "name": "ipython",
    "version": 3
   },
   "file_extension": ".py",
   "mimetype": "text/x-python",
   "name": "python",
   "nbconvert_exporter": "python",
   "pygments_lexer": "ipython3",
   "version": "3.12.9"
  }
 },
 "nbformat": 4,
 "nbformat_minor": 5
}
